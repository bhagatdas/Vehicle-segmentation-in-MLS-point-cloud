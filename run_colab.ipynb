{
  "cells": [
    {
      "cell_type": "code",
      "execution_count": null,
      "metadata": {
        "id": "UH1eM_ktsj5o"
      },
      "outputs": [],
      "source": [
        "import torch\n",
        "if torch.cuda.is_available():\n",
        "  print(\"CUDA available\")\n",
        "else:\n",
        "  print(\"Enable CUDA > Runtime > Change runtime type > GPU\")"
      ]
    },
    {
      "cell_type": "code",
      "execution_count": null,
      "metadata": {
        "id": "pjQtF5laYhSn"
      },
      "outputs": [],
      "source": [
        "from google.colab import drive\n",
        "drive.mount('/content/drive')"
      ]
    },
    {
      "cell_type": "code",
      "execution_count": null,
      "metadata": {
        "id": "NFBPxcedXOKG"
      },
      "outputs": [],
      "source": [
        "!git clone 'https://github.com/yanx27/Pointnet_Pointnet2_pytorch.git' '/content/drive/My Drive/PointNet/'"
      ]
    },
    {
      "cell_type": "code",
      "execution_count": null,
      "metadata": {
        "id": "sopj-t8pkQQm"
      },
      "outputs": [],
      "source": [
        "%cd /content/drive/MyDrive/PointNet/data_utils"
      ]
    },
    {
      "cell_type": "code",
      "execution_count": null,
      "metadata": {
        "id": "a6sJkV4r6zvc"
      },
      "outputs": [],
      "source": [
        "!ls"
      ]
    },
    {
      "cell_type": "code",
      "execution_count": null,
      "metadata": {
        "id": "ZcExgu3Ph-RM"
      },
      "outputs": [],
      "source": [
        "!python collect_indoor3d_data.py"
      ]
    },
    {
      "cell_type": "code",
      "execution_count": null,
      "metadata": {
        "id": "vbzbSqrB9eoR"
      },
      "outputs": [],
      "source": [
        "%cd /content/drive/MyDrive/PointNet/"
      ]
    },
    {
      "cell_type": "code",
      "execution_count": null,
      "metadata": {
        "id": "Ho-hIarq458m"
      },
      "outputs": [],
      "source": [
        "!python train_semseg.py --model pointnet2_sem_seg --test_area 1 --log_dir pointnet2_sem_seg --npoint 2048"
      ]
    },
    {
      "cell_type": "code",
      "execution_count": null,
      "metadata": {
        "id": "_u7rdOsykCGx"
      },
      "outputs": [],
      "source": [
        "!python test_semseg.py --log_dir pointnet2_sem_seg --test_area 1 --visual --num_point 2048"
      ]
    }
  ],
  "metadata": {
    "colab": {
      "provenance": []
    },
    "gpuClass": "standard",
    "kernelspec": {
      "display_name": "Python 3",
      "name": "python3"
    },
    "language_info": {
      "name": "python"
    },
    "accelerator": "GPU"
  },
  "nbformat": 4,
  "nbformat_minor": 0
}